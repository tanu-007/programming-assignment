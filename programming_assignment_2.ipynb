{
  "nbformat": 4,
  "nbformat_minor": 0,
  "metadata": {
    "colab": {
      "provenance": []
    },
    "kernelspec": {
      "name": "python3",
      "display_name": "Python 3"
    },
    "language_info": {
      "name": "python"
    }
  },
  "cells": [
    {
      "cell_type": "code",
      "execution_count": null,
      "metadata": {
        "id": "n7VdhmfCSd-l"
      },
      "outputs": [],
      "source": [
        "1. Write a Python program to convert kilometers to miles?\n",
        "2. Write a Python program to convert Celsius to Fahrenheit?\n",
        "3. Write a Python program to display calendar?\n",
        "4. Write a Python program to solve quadratic equation?\n",
        "5. Write a Python program to swap two variables without temp variable?"
      ]
    },
    {
      "cell_type": "code",
      "source": [
        "x=10\n",
        "y=20\n",
        "x=y\n",
        "print('the value of x is', x)"
      ],
      "metadata": {
        "colab": {
          "base_uri": "https://localhost:8080/"
        },
        "id": "IyFqTkonS3Te",
        "outputId": "4810fb52-adab-411c-d900-be6ea345e7aa"
      },
      "execution_count": null,
      "outputs": [
        {
          "output_type": "stream",
          "name": "stdout",
          "text": [
            "the value of x is 20\n"
          ]
        }
      ]
    },
    {
      "cell_type": "code",
      "source": [
        "def k(m):\n",
        "  m= float(input('value in kilometers'))\n",
        "  c= 0.621371*m\n",
        "  print(m,'km','is',c,'miles')"
      ],
      "metadata": {
        "id": "BQxZQ-abt0Os"
      },
      "execution_count": null,
      "outputs": []
    },
    {
      "cell_type": "code",
      "source": [
        "k(1)\n"
      ],
      "metadata": {
        "colab": {
          "base_uri": "https://localhost:8080/"
        },
        "id": "m6nutRl0ucPT",
        "outputId": "3a023a7c-f2f9-4c4f-ecad-2ee720fc305b"
      },
      "execution_count": null,
      "outputs": [
        {
          "output_type": "stream",
          "name": "stdout",
          "text": [
            "value in kilometers20\n",
            "20.0 km is 12.42742 miles\n"
          ]
        }
      ]
    },
    {
      "cell_type": "code",
      "source": [
        "def c(f):\n",
        "  c=float(input('temperature in degree C'))\n",
        "  f= c*9/5 +32\n",
        "  print(c,'degree C is',f,'F' )"
      ],
      "metadata": {
        "id": "VBqWIascuqsD"
      },
      "execution_count": null,
      "outputs": []
    },
    {
      "cell_type": "code",
      "source": [
        "c(2)"
      ],
      "metadata": {
        "colab": {
          "base_uri": "https://localhost:8080/"
        },
        "id": "gkF10-efvRp3",
        "outputId": "3fc394ee-e925-4d9c-af15-736042c6c728"
      },
      "execution_count": null,
      "outputs": [
        {
          "output_type": "stream",
          "name": "stdout",
          "text": [
            "temperature in degree C100\n",
            "100.0 degree C is 212.0 F\n"
          ]
        }
      ]
    },
    {
      "cell_type": "code",
      "source": [
        "import calendar\n",
        "y = int(input('year:'))\n",
        "m = int(input('month:'))\n",
        "print(calendar.month(y,m))\n"
      ],
      "metadata": {
        "colab": {
          "base_uri": "https://localhost:8080/"
        },
        "id": "hqq2AgpKvdHm",
        "outputId": "795411cc-3e05-4a6d-ffa1-d3307275db1e"
      },
      "execution_count": null,
      "outputs": [
        {
          "output_type": "stream",
          "name": "stdout",
          "text": [
            "year:2023\n",
            "month:9\n",
            "   September 2023\n",
            "Mo Tu We Th Fr Sa Su\n",
            "             1  2  3\n",
            " 4  5  6  7  8  9 10\n",
            "11 12 13 14 15 16 17\n",
            "18 19 20 21 22 23 24\n",
            "25 26 27 28 29 30\n",
            "\n"
          ]
        }
      ]
    },
    {
      "cell_type": "code",
      "source": [
        "import cmath\n",
        "import math\n",
        "def qe(a,b,c):\n",
        "  a= float(input('a:'))\n",
        "  b= float(input('b:'))\n",
        "  c = float(input('c:'))\n",
        "  d = b**2 - 4*a*c\n",
        "  if d < 0:\n",
        "    Root1 = (-b-cmath.sqrt(d))/(2*a)\n",
        "    Root2 = (-b+cmath.sqrt(d))/(2*a)\n",
        "    print('the solution of quadratic equation containing a, b,c=', a,b,c, 'is', Root1, Root2)\n",
        "  if d > 0:\n",
        "    Root1 = (-b-math.sqrt(d))/(2*a)\n",
        "    Root2 = (-b + math.sqrt(d))/(2*a)\n",
        "    print('the solution of quadratic equation containing a, b,c=', a,b,c, 'is', Root1, Root2)\n",
        "\n"
      ],
      "metadata": {
        "id": "FG7xhA35wBmn"
      },
      "execution_count": null,
      "outputs": []
    },
    {
      "cell_type": "code",
      "source": [
        "qe(3,5,6)"
      ],
      "metadata": {
        "colab": {
          "base_uri": "https://localhost:8080/"
        },
        "id": "KiKQSalQ1CMg",
        "outputId": "05580828-1f2d-4116-f664-cc9ef0f29aab"
      },
      "execution_count": null,
      "outputs": [
        {
          "output_type": "stream",
          "name": "stdout",
          "text": [
            "a:1\n",
            "b:-8\n",
            "c:15\n",
            "the solution of quadratic equation containing a, b,c= 1.0 -8.0 15.0 is 3.0 5.0\n"
          ]
        }
      ]
    },
    {
      "cell_type": "code",
      "source": [
        "qe(1,2,3)"
      ],
      "metadata": {
        "colab": {
          "base_uri": "https://localhost:8080/"
        },
        "id": "62Yjlrpr1f6U",
        "outputId": "308fd43a-f4b4-47c6-d4f3-68208e96f8f4"
      },
      "execution_count": null,
      "outputs": [
        {
          "output_type": "stream",
          "name": "stdout",
          "text": [
            "a:2\n",
            "b:1\n",
            "c:1\n",
            "the solution of quadratic equation containing a, b,c= 2.0 1.0 1.0 is (-0.25-0.6614378277661477j) (-0.25+0.6614378277661477j)\n"
          ]
        }
      ]
    }
  ]
}