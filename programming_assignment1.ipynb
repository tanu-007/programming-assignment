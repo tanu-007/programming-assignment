{
  "nbformat": 4,
  "nbformat_minor": 0,
  "metadata": {
    "colab": {
      "provenance": []
    },
    "kernelspec": {
      "name": "python3",
      "display_name": "Python 3"
    },
    "language_info": {
      "name": "python"
    }
  },
  "cells": [
    {
      "cell_type": "code",
      "execution_count": null,
      "metadata": {
        "id": "KkWs0mx2TAWi"
      },
      "outputs": [],
      "source": []
    },
    {
      "cell_type": "markdown",
      "source": [
        "1. Write a Python program to print &quot;Hello Python&quot;?\n",
        "2. Write a Python program to do arithmetical operations addition and division.?\n",
        "3. Write a Python program to find the area of a triangle?\n",
        "4. Write a Python program to swap two variables?\n",
        "5. Write a Python program to generate a random number?"
      ],
      "metadata": {
        "id": "Chj2QtTvTB5D"
      }
    },
    {
      "cell_type": "code",
      "source": [
        "\"hello python\"\n"
      ],
      "metadata": {
        "colab": {
          "base_uri": "https://localhost:8080/",
          "height": 35
        },
        "id": "AzdiHbONTFOl",
        "outputId": "527f257a-e4f9-4cbf-f73e-c29f8f3433a8"
      },
      "execution_count": null,
      "outputs": [
        {
          "output_type": "execute_result",
          "data": {
            "text/plain": [
              "'hello python'"
            ],
            "application/vnd.google.colaboratory.intrinsic+json": {
              "type": "string"
            }
          },
          "metadata": {},
          "execution_count": 4
        }
      ]
    },
    {
      "cell_type": "code",
      "source": [
        "def w(s):\n",
        "  s = str(input('enter a sentence'))\n",
        "  print(s)"
      ],
      "metadata": {
        "id": "dPJqKurFbPcF"
      },
      "execution_count": null,
      "outputs": []
    },
    {
      "cell_type": "code",
      "source": [
        "w('kp')\n"
      ],
      "metadata": {
        "colab": {
          "base_uri": "https://localhost:8080/"
        },
        "id": "30YgD4XYbisN",
        "outputId": "3511e722-0996-41c6-b41f-9f8f4d9aa6be"
      },
      "execution_count": null,
      "outputs": [
        {
          "output_type": "stream",
          "name": "stdout",
          "text": [
            "enter a sentencehello python\n",
            "hello python\n"
          ]
        }
      ]
    },
    {
      "cell_type": "code",
      "source": [
        "def add(x,y):\n",
        "  x = float(input('first number'))\n",
        "  y = float(input('second number'))\n",
        "  sum = x+y\n",
        "  print(\"addition of\", x, 'and', y, 'is', sum)"
      ],
      "metadata": {
        "id": "p5kcpIqMWabG"
      },
      "execution_count": null,
      "outputs": []
    },
    {
      "cell_type": "code",
      "source": [
        "add(32,56)"
      ],
      "metadata": {
        "colab": {
          "base_uri": "https://localhost:8080/"
        },
        "id": "9pH4zM_ZaIpR",
        "outputId": "ee7e6031-3b48-41ff-e95f-b3ebe00e7f30"
      },
      "execution_count": null,
      "outputs": [
        {
          "output_type": "stream",
          "name": "stdout",
          "text": [
            "first number32\n",
            "second number56\n",
            "addition of 32.0 and 56.0 is 88.0\n"
          ]
        }
      ]
    },
    {
      "cell_type": "code",
      "source": [
        "def divide(u,v):\n",
        "  u = float(input('1st number'))\n",
        "  v = float(input('2nd number'))\n",
        "  div = u/v\n",
        "  print(u,'by',v,'is',div)"
      ],
      "metadata": {
        "id": "4Lf8pfKLaSPX"
      },
      "execution_count": null,
      "outputs": []
    },
    {
      "cell_type": "code",
      "source": [
        "divide(56,8)"
      ],
      "metadata": {
        "colab": {
          "base_uri": "https://localhost:8080/"
        },
        "id": "63GL6m49bA8I",
        "outputId": "583a6cfc-e2a5-4631-e6be-dbbab36db670"
      },
      "execution_count": null,
      "outputs": [
        {
          "output_type": "stream",
          "name": "stdout",
          "text": [
            "1st number56\n",
            "2nd number8\n",
            "56.0 by 8.0 is 7.0\n"
          ]
        }
      ]
    },
    {
      "cell_type": "code",
      "source": [
        "def area(a,b):\n",
        "  a = float(input('base in cm'))\n",
        "  b = float(input('height in cm'))\n",
        "  area = 1/2*a*b\n",
        "  print('area of triangle having base',a,'and height', b, 'is', area,'sq.cm')"
      ],
      "metadata": {
        "id": "VKB7b1yodJvM"
      },
      "execution_count": null,
      "outputs": []
    },
    {
      "cell_type": "code",
      "source": [
        "area(100,70)"
      ],
      "metadata": {
        "colab": {
          "base_uri": "https://localhost:8080/"
        },
        "id": "hjyzh6pzd4uD",
        "outputId": "a3e49c42-8e6d-4e48-fd5a-9235d25cd418"
      },
      "execution_count": null,
      "outputs": [
        {
          "output_type": "stream",
          "name": "stdout",
          "text": [
            "base in cm100\n",
            "height in cm70\n",
            "area of triangle having base 100.0 and height 70.0 is 3500.0 sq.cm\n"
          ]
        }
      ]
    },
    {
      "cell_type": "code",
      "source": [
        "import random\n",
        "n =random.random()\n",
        "print (n)"
      ],
      "metadata": {
        "colab": {
          "base_uri": "https://localhost:8080/"
        },
        "id": "TS_vAsN8eFxQ",
        "outputId": "0522f682-0e1c-4bfa-e275-8560d34ffed2"
      },
      "execution_count": null,
      "outputs": [
        {
          "output_type": "stream",
          "name": "stdout",
          "text": [
            "0.37807687502965337\n"
          ]
        }
      ]
    },
    {
      "cell_type": "code",
      "source": [
        "x = 10\n",
        "y=20\n",
        "x=y\n",
        "print('the value of x is',x)"
      ],
      "metadata": {
        "colab": {
          "base_uri": "https://localhost:8080/"
        },
        "id": "8A6R_XQ0qKrw",
        "outputId": "9e9cc69e-eb12-424d-8b3a-1774c347652a"
      },
      "execution_count": null,
      "outputs": [
        {
          "output_type": "stream",
          "name": "stdout",
          "text": [
            "the value of x is 20\n"
          ]
        }
      ]
    }
  ]
}